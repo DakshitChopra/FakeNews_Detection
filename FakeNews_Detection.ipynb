{
  "cells": [
    {
      "cell_type": "markdown",
      "metadata": {
        "id": "view-in-github",
        "colab_type": "text"
      },
      "source": [
        "<a href=\"https://colab.research.google.com/github/DakshitChopra/FakeNews_Detection/blob/main/FakeNews_Detection.ipynb\" target=\"_parent\"><img src=\"https://colab.research.google.com/assets/colab-badge.svg\" alt=\"Open In Colab\"/></a>"
      ]
    },
    {
      "cell_type": "code",
      "source": [
        "%reload_ext autoreload\n",
        "%autoreload 2\n",
        "%matplotlib inline"
      ],
      "metadata": {
        "id": "EW3NpjpRtCF0"
      },
      "execution_count": 1,
      "outputs": []
    },
    {
      "cell_type": "code",
      "source": [
        "import os\n",
        "import torch\n",
        "from fastai import *\n",
        "from fastai.basics import *\n",
        "from fastai.callback.all import *\n",
        "from fastai.text import *\n",
        "from fastai.text.all import *\n",
        "from fastai.metrics import error_rate, accuracy\n",
        "import numpy as np\n",
        "import pandas as pd\n",
        "import matplotlib as plt"
      ],
      "metadata": {
        "id": "wEgfbmo6tExy"
      },
      "execution_count": 2,
      "outputs": []
    },
    {
      "cell_type": "code",
      "source": [
        "import warnings\n",
        "warnings.filterwarnings('ignore')"
      ],
      "metadata": {
        "id": "9c1biAnNtGkR"
      },
      "execution_count": 3,
      "outputs": []
    },
    {
      "cell_type": "code",
      "source": [
        "path = Path('../content')\n",
        "path.ls()"
      ],
      "metadata": {
        "colab": {
          "base_uri": "https://localhost:8080/"
        },
        "id": "KryyxnAFtIh_",
        "outputId": "2941685b-4c79-445b-e096-972ba8f2cfc8"
      },
      "execution_count": 4,
      "outputs": [
        {
          "output_type": "execute_result",
          "data": {
            "text/plain": [
              "(#3) [Path('../content/.config'),Path('../content/news_dataset.csv'),Path('../content/sample_data')]"
            ]
          },
          "metadata": {},
          "execution_count": 4
        }
      ]
    },
    {
      "cell_type": "code",
      "source": [
        "df = pd.read_csv(path/'news_dataset.csv')\n",
        "df.head()"
      ],
      "metadata": {
        "colab": {
          "base_uri": "https://localhost:8080/",
          "height": 553
        },
        "id": "15VCs9xLtK0A",
        "outputId": "c494b4f3-4abf-408a-fde0-5771310263f5"
      },
      "execution_count": 5,
      "outputs": [
        {
          "output_type": "execute_result",
          "data": {
            "text/plain": [
              "  label  \\\n",
              "0  REAL   \n",
              "1  FAKE   \n",
              "2  FAKE   \n",
              "3  REAL   \n",
              "4  REAL   \n",
              "\n",
              "                                                                                                                                                                                                                                                                                                                                                                                                                                                                                                                                                                                                                      text  \n",
              "0                                                               Payal has accused filmmaker Anurag Kashyap of behaving inappropriately with her in a video that went viral. She maintained her stance while speaking to ETimes and said, “I have wanted to speak about this for a long time. But today, finally I thought I must get it off my head. I had tweeted about my incident sometime ago when the #MeToo movement had happened, but many people told me to delete the tweet else I would stop getting work. My manager too advised me to remove the tweet. I complied. Post that, Anurag blocked me on WhatsApp.”  \n",
              "1  A four-minute-long video of a woman criticising the government at an anti-Citizenship Amendment Act rally in Delhi earlier in January is going viral with a false claim that the woman shows late Prime Minister Atal Bihari Vajpayee's niece.\\n\\nThe caption in Hindi translates to: \" Respected Vajpayee ji's niece has finally broken her silence, listen to what she has to say.\"\\n\\n\\n\\n(Translated from Hindi: माननीय वाजपयी जी की भतीजी ने आखिरकार तोड़ी चुप्पी | जानिए क्या कहा)\\n\\nAlso Read: Muslim Politician Disguised As A Hindu In Anti-CAA Protests?\\n\\nThe video comes at a time when protests again...  \n",
              "2  Republic Poll, a fake Twitter account imitating the Arnab Goswami-led Republic TV, is angering netizens with its controversial polls as Twitter users including journalists mistake it for the channel's official account.\\n\\n\\n\\nThe fake account (@RepublicPoll) uses a logo very similar to Republic TV's logo and does not mention in its bio whether it is related to Republic TV or if it is a fan account. Twitter's rules require that a fan account or parody account should indicate the same.\\n\\nAlso Read:Did Nita Ambani Ask For Support For CAA?\\n\\n\\n\\n\\n\\nSiddharth Varadarajan, founding editor of ...  \n",
              "3  Delhi teen finds place on UN green list, turns glass into sand\\n\\nNEW DELHI: Udit Singhal , who founded a startup to turn glass bottles into sand , has been named among 17 people in the United Nation’s 2020 Class of Young Leaders for Sustainable Development Goals (SDGs). The programme is a flagship initiative that recognises the efforts of young people in driving action and galvanising others in support of UN’s 2030 agenda for sustainable development.Singhal, an 18-year-old who lives near Mandi House, told TOI, “I feel proud to represent India. Along with 16 others, I’ll work to motivate y...  \n",
              "4  Delhi: A high-level meeting underway at residence of Rajya Sabha Chairman, Venkaiah Naidu, over the ruckus created… https://t.co/OfoRpOwd4b — ANI (@ANI) 1600599438000\\n\\nA watershed moment in the history of Indian agriculture! Congratulations to our hardworking farmers on the passage… https://t.co/CdLW6Itzmc — Narendra Modi (@narendramodi) 1600595449000\\n\\nFor decades, the Indian farmer was bound by various constraints and bullied by middlemen. The bills passed by Parli… https://t.co/GfF1nhaFeZ — Narendra Modi (@narendramodi) 1600595492000\\n\\nOur agriculture sector is in desperate need of ...  "
            ],
            "text/html": [
              "\n",
              "  <div id=\"df-c3e795bd-1e09-4673-9ce3-6f8760e3b246\" class=\"colab-df-container\">\n",
              "    <div>\n",
              "<style scoped>\n",
              "    .dataframe tbody tr th:only-of-type {\n",
              "        vertical-align: middle;\n",
              "    }\n",
              "\n",
              "    .dataframe tbody tr th {\n",
              "        vertical-align: top;\n",
              "    }\n",
              "\n",
              "    .dataframe thead th {\n",
              "        text-align: right;\n",
              "    }\n",
              "</style>\n",
              "<table border=\"1\" class=\"dataframe\">\n",
              "  <thead>\n",
              "    <tr style=\"text-align: right;\">\n",
              "      <th></th>\n",
              "      <th>label</th>\n",
              "      <th>text</th>\n",
              "    </tr>\n",
              "  </thead>\n",
              "  <tbody>\n",
              "    <tr>\n",
              "      <th>0</th>\n",
              "      <td>REAL</td>\n",
              "      <td>Payal has accused filmmaker Anurag Kashyap of behaving inappropriately with her in a video that went viral. She maintained her stance while speaking to ETimes and said, “I have wanted to speak about this for a long time. But today, finally I thought I must get it off my head. I had tweeted about my incident sometime ago when the #MeToo movement had happened, but many people told me to delete the tweet else I would stop getting work. My manager too advised me to remove the tweet. I complied. Post that, Anurag blocked me on WhatsApp.”</td>\n",
              "    </tr>\n",
              "    <tr>\n",
              "      <th>1</th>\n",
              "      <td>FAKE</td>\n",
              "      <td>A four-minute-long video of a woman criticising the government at an anti-Citizenship Amendment Act rally in Delhi earlier in January is going viral with a false claim that the woman shows late Prime Minister Atal Bihari Vajpayee's niece.\\n\\nThe caption in Hindi translates to: \" Respected Vajpayee ji's niece has finally broken her silence, listen to what she has to say.\"\\n\\n\\n\\n(Translated from Hindi: माननीय वाजपयी जी की भतीजी ने आखिरकार तोड़ी चुप्पी | जानिए क्या कहा)\\n\\nAlso Read: Muslim Politician Disguised As A Hindu In Anti-CAA Protests?\\n\\nThe video comes at a time when protests again...</td>\n",
              "    </tr>\n",
              "    <tr>\n",
              "      <th>2</th>\n",
              "      <td>FAKE</td>\n",
              "      <td>Republic Poll, a fake Twitter account imitating the Arnab Goswami-led Republic TV, is angering netizens with its controversial polls as Twitter users including journalists mistake it for the channel's official account.\\n\\n\\n\\nThe fake account (@RepublicPoll) uses a logo very similar to Republic TV's logo and does not mention in its bio whether it is related to Republic TV or if it is a fan account. Twitter's rules require that a fan account or parody account should indicate the same.\\n\\nAlso Read:Did Nita Ambani Ask For Support For CAA?\\n\\n\\n\\n\\n\\nSiddharth Varadarajan, founding editor of ...</td>\n",
              "    </tr>\n",
              "    <tr>\n",
              "      <th>3</th>\n",
              "      <td>REAL</td>\n",
              "      <td>Delhi teen finds place on UN green list, turns glass into sand\\n\\nNEW DELHI: Udit Singhal , who founded a startup to turn glass bottles into sand , has been named among 17 people in the United Nation’s 2020 Class of Young Leaders for Sustainable Development Goals (SDGs). The programme is a flagship initiative that recognises the efforts of young people in driving action and galvanising others in support of UN’s 2030 agenda for sustainable development.Singhal, an 18-year-old who lives near Mandi House, told TOI, “I feel proud to represent India. Along with 16 others, I’ll work to motivate y...</td>\n",
              "    </tr>\n",
              "    <tr>\n",
              "      <th>4</th>\n",
              "      <td>REAL</td>\n",
              "      <td>Delhi: A high-level meeting underway at residence of Rajya Sabha Chairman, Venkaiah Naidu, over the ruckus created… https://t.co/OfoRpOwd4b — ANI (@ANI) 1600599438000\\n\\nA watershed moment in the history of Indian agriculture! Congratulations to our hardworking farmers on the passage… https://t.co/CdLW6Itzmc — Narendra Modi (@narendramodi) 1600595449000\\n\\nFor decades, the Indian farmer was bound by various constraints and bullied by middlemen. The bills passed by Parli… https://t.co/GfF1nhaFeZ — Narendra Modi (@narendramodi) 1600595492000\\n\\nOur agriculture sector is in desperate need of ...</td>\n",
              "    </tr>\n",
              "  </tbody>\n",
              "</table>\n",
              "</div>\n",
              "    <div class=\"colab-df-buttons\">\n",
              "\n",
              "  <div class=\"colab-df-container\">\n",
              "    <button class=\"colab-df-convert\" onclick=\"convertToInteractive('df-c3e795bd-1e09-4673-9ce3-6f8760e3b246')\"\n",
              "            title=\"Convert this dataframe to an interactive table.\"\n",
              "            style=\"display:none;\">\n",
              "\n",
              "  <svg xmlns=\"http://www.w3.org/2000/svg\" height=\"24px\" viewBox=\"0 -960 960 960\">\n",
              "    <path d=\"M120-120v-720h720v720H120Zm60-500h600v-160H180v160Zm220 220h160v-160H400v160Zm0 220h160v-160H400v160ZM180-400h160v-160H180v160Zm440 0h160v-160H620v160ZM180-180h160v-160H180v160Zm440 0h160v-160H620v160Z\"/>\n",
              "  </svg>\n",
              "    </button>\n",
              "\n",
              "  <style>\n",
              "    .colab-df-container {\n",
              "      display:flex;\n",
              "      gap: 12px;\n",
              "    }\n",
              "\n",
              "    .colab-df-convert {\n",
              "      background-color: #E8F0FE;\n",
              "      border: none;\n",
              "      border-radius: 50%;\n",
              "      cursor: pointer;\n",
              "      display: none;\n",
              "      fill: #1967D2;\n",
              "      height: 32px;\n",
              "      padding: 0 0 0 0;\n",
              "      width: 32px;\n",
              "    }\n",
              "\n",
              "    .colab-df-convert:hover {\n",
              "      background-color: #E2EBFA;\n",
              "      box-shadow: 0px 1px 2px rgba(60, 64, 67, 0.3), 0px 1px 3px 1px rgba(60, 64, 67, 0.15);\n",
              "      fill: #174EA6;\n",
              "    }\n",
              "\n",
              "    .colab-df-buttons div {\n",
              "      margin-bottom: 4px;\n",
              "    }\n",
              "\n",
              "    [theme=dark] .colab-df-convert {\n",
              "      background-color: #3B4455;\n",
              "      fill: #D2E3FC;\n",
              "    }\n",
              "\n",
              "    [theme=dark] .colab-df-convert:hover {\n",
              "      background-color: #434B5C;\n",
              "      box-shadow: 0px 1px 3px 1px rgba(0, 0, 0, 0.15);\n",
              "      filter: drop-shadow(0px 1px 2px rgba(0, 0, 0, 0.3));\n",
              "      fill: #FFFFFF;\n",
              "    }\n",
              "  </style>\n",
              "\n",
              "    <script>\n",
              "      const buttonEl =\n",
              "        document.querySelector('#df-c3e795bd-1e09-4673-9ce3-6f8760e3b246 button.colab-df-convert');\n",
              "      buttonEl.style.display =\n",
              "        google.colab.kernel.accessAllowed ? 'block' : 'none';\n",
              "\n",
              "      async function convertToInteractive(key) {\n",
              "        const element = document.querySelector('#df-c3e795bd-1e09-4673-9ce3-6f8760e3b246');\n",
              "        const dataTable =\n",
              "          await google.colab.kernel.invokeFunction('convertToInteractive',\n",
              "                                                    [key], {});\n",
              "        if (!dataTable) return;\n",
              "\n",
              "        const docLinkHtml = 'Like what you see? Visit the ' +\n",
              "          '<a target=\"_blank\" href=https://colab.research.google.com/notebooks/data_table.ipynb>data table notebook</a>'\n",
              "          + ' to learn more about interactive tables.';\n",
              "        element.innerHTML = '';\n",
              "        dataTable['output_type'] = 'display_data';\n",
              "        await google.colab.output.renderOutput(dataTable, element);\n",
              "        const docLink = document.createElement('div');\n",
              "        docLink.innerHTML = docLinkHtml;\n",
              "        element.appendChild(docLink);\n",
              "      }\n",
              "    </script>\n",
              "  </div>\n",
              "\n",
              "\n",
              "<div id=\"df-16fcc83b-dbc0-4ae7-888f-3cada1c8c7e0\">\n",
              "  <button class=\"colab-df-quickchart\" onclick=\"quickchart('df-16fcc83b-dbc0-4ae7-888f-3cada1c8c7e0')\"\n",
              "            title=\"Suggest charts\"\n",
              "            style=\"display:none;\">\n",
              "\n",
              "<svg xmlns=\"http://www.w3.org/2000/svg\" height=\"24px\"viewBox=\"0 0 24 24\"\n",
              "     width=\"24px\">\n",
              "    <g>\n",
              "        <path d=\"M19 3H5c-1.1 0-2 .9-2 2v14c0 1.1.9 2 2 2h14c1.1 0 2-.9 2-2V5c0-1.1-.9-2-2-2zM9 17H7v-7h2v7zm4 0h-2V7h2v10zm4 0h-2v-4h2v4z\"/>\n",
              "    </g>\n",
              "</svg>\n",
              "  </button>\n",
              "\n",
              "<style>\n",
              "  .colab-df-quickchart {\n",
              "      --bg-color: #E8F0FE;\n",
              "      --fill-color: #1967D2;\n",
              "      --hover-bg-color: #E2EBFA;\n",
              "      --hover-fill-color: #174EA6;\n",
              "      --disabled-fill-color: #AAA;\n",
              "      --disabled-bg-color: #DDD;\n",
              "  }\n",
              "\n",
              "  [theme=dark] .colab-df-quickchart {\n",
              "      --bg-color: #3B4455;\n",
              "      --fill-color: #D2E3FC;\n",
              "      --hover-bg-color: #434B5C;\n",
              "      --hover-fill-color: #FFFFFF;\n",
              "      --disabled-bg-color: #3B4455;\n",
              "      --disabled-fill-color: #666;\n",
              "  }\n",
              "\n",
              "  .colab-df-quickchart {\n",
              "    background-color: var(--bg-color);\n",
              "    border: none;\n",
              "    border-radius: 50%;\n",
              "    cursor: pointer;\n",
              "    display: none;\n",
              "    fill: var(--fill-color);\n",
              "    height: 32px;\n",
              "    padding: 0;\n",
              "    width: 32px;\n",
              "  }\n",
              "\n",
              "  .colab-df-quickchart:hover {\n",
              "    background-color: var(--hover-bg-color);\n",
              "    box-shadow: 0 1px 2px rgba(60, 64, 67, 0.3), 0 1px 3px 1px rgba(60, 64, 67, 0.15);\n",
              "    fill: var(--button-hover-fill-color);\n",
              "  }\n",
              "\n",
              "  .colab-df-quickchart-complete:disabled,\n",
              "  .colab-df-quickchart-complete:disabled:hover {\n",
              "    background-color: var(--disabled-bg-color);\n",
              "    fill: var(--disabled-fill-color);\n",
              "    box-shadow: none;\n",
              "  }\n",
              "\n",
              "  .colab-df-spinner {\n",
              "    border: 2px solid var(--fill-color);\n",
              "    border-color: transparent;\n",
              "    border-bottom-color: var(--fill-color);\n",
              "    animation:\n",
              "      spin 1s steps(1) infinite;\n",
              "  }\n",
              "\n",
              "  @keyframes spin {\n",
              "    0% {\n",
              "      border-color: transparent;\n",
              "      border-bottom-color: var(--fill-color);\n",
              "      border-left-color: var(--fill-color);\n",
              "    }\n",
              "    20% {\n",
              "      border-color: transparent;\n",
              "      border-left-color: var(--fill-color);\n",
              "      border-top-color: var(--fill-color);\n",
              "    }\n",
              "    30% {\n",
              "      border-color: transparent;\n",
              "      border-left-color: var(--fill-color);\n",
              "      border-top-color: var(--fill-color);\n",
              "      border-right-color: var(--fill-color);\n",
              "    }\n",
              "    40% {\n",
              "      border-color: transparent;\n",
              "      border-right-color: var(--fill-color);\n",
              "      border-top-color: var(--fill-color);\n",
              "    }\n",
              "    60% {\n",
              "      border-color: transparent;\n",
              "      border-right-color: var(--fill-color);\n",
              "    }\n",
              "    80% {\n",
              "      border-color: transparent;\n",
              "      border-right-color: var(--fill-color);\n",
              "      border-bottom-color: var(--fill-color);\n",
              "    }\n",
              "    90% {\n",
              "      border-color: transparent;\n",
              "      border-bottom-color: var(--fill-color);\n",
              "    }\n",
              "  }\n",
              "</style>\n",
              "\n",
              "  <script>\n",
              "    async function quickchart(key) {\n",
              "      const quickchartButtonEl =\n",
              "        document.querySelector('#' + key + ' button');\n",
              "      quickchartButtonEl.disabled = true;  // To prevent multiple clicks.\n",
              "      quickchartButtonEl.classList.add('colab-df-spinner');\n",
              "      try {\n",
              "        const charts = await google.colab.kernel.invokeFunction(\n",
              "            'suggestCharts', [key], {});\n",
              "      } catch (error) {\n",
              "        console.error('Error during call to suggestCharts:', error);\n",
              "      }\n",
              "      quickchartButtonEl.classList.remove('colab-df-spinner');\n",
              "      quickchartButtonEl.classList.add('colab-df-quickchart-complete');\n",
              "    }\n",
              "    (() => {\n",
              "      let quickchartButtonEl =\n",
              "        document.querySelector('#df-16fcc83b-dbc0-4ae7-888f-3cada1c8c7e0 button');\n",
              "      quickchartButtonEl.style.display =\n",
              "        google.colab.kernel.accessAllowed ? 'block' : 'none';\n",
              "    })();\n",
              "  </script>\n",
              "</div>\n",
              "\n",
              "    </div>\n",
              "  </div>\n"
            ],
            "application/vnd.google.colaboratory.intrinsic+json": {
              "type": "dataframe",
              "variable_name": "df",
              "summary": "{\n  \"name\": \"df\",\n  \"rows\": 3729,\n  \"fields\": [\n    {\n      \"column\": \"label\",\n      \"properties\": {\n        \"dtype\": \"category\",\n        \"num_unique_values\": 2,\n        \"samples\": [\n          \"FAKE\",\n          \"REAL\"\n        ],\n        \"semantic_type\": \"\",\n        \"description\": \"\"\n      }\n    },\n    {\n      \"column\": \"text\",\n      \"properties\": {\n        \"dtype\": \"string\",\n        \"num_unique_values\": 2229,\n        \"samples\": [\n          \"NEW DELHI: Hong Kong has again asked Air India not to operate flights there for two weeks starting Sunday (September 20). Like the first suspension last month , this time also the reason is significant number of passengers from India testing positive on arrival in Hong Kong.\\u201cHong Kong civil aviation authority has advised AI not to operate for two weeks from till October 3. Only one flight was scheduled to operate in this period \\u2014 Delhi-Hong Kong on Monday (September 21) which has been cancelled and passengers informed,\\u201d said a senior AI official.Last month also Hong Kong had barred Air India flights for two weeks after 11 passengers who flew in there from Delhi on August 14 had tested positive on arrival. Cathay Pacific is not operating to India during the pandemic.Chinese media reports Hong Kong has temporarily suspended Cathay Dragon (Cathay\\u2019s regional arm) flights on Kuala Lumpur route. Five people flew AI Express to Malaysia and then took a connecting flight to Hong Kong, where they tested positive on arrival, according to those reports.Last week Dubai aviation authorities had decided to suspend AI Express operations to the city for 15 days after the budget airline twice flew passengers with Covid positive reports there from India. Following an apology from AI Express and assurance that the same will not happen again, Dubai Civil Aviation Authority revoked this suspension.Last Friday, the airline\\u2019s spokesperson had said: \\u201cWe have apologised for the two lapses to Dubai authorities and assured them of putting in place multi-level strict checks to ensure the same does not get repeated. (Accordingly) all AI Express flights from and to Dubai will operate as per original schedule from Saturday (September 19).\\u201d\",\n          \"An edited image of Prime Minister Narendra Modi bowing in front of Chinese President Xi Jinping with folded hands is being shared on social media. The image is doctored to include the Indian prime minister photographed in such a gesture.\\n\\nThe photograph has gone viral in the aftermath of the June 15 clash between the Indian and Chinese troops in the Galwan valley of the eastern Ladakh region of the Line of Actual Control, which led to the death of 20 Indian soldiers. The casualties on the Chinese side are not yet known.\\n\\nThe image has been shared on Twitter and Facebook with a similar narrative.\\n\\nSaughand mujhe is mitti ki.... pic.twitter.com/OG0T5koQLR \\u2014 Sanghamitra (@AudaciousQuest) June 20, 2020\\n\\nThe archives can be found here, here and here.\\n\\nAlso Read: Randeep Surjewala Peddles Old Clips Of India-China Clashes As Recent\\n\\nThe morphed photograph was earlier tweeted by an Indian National Congress party member and a spokesperson Devashish Jarariya claiming that PM Modi 'made this image real.'\\n\\nAfter the all-party meeting, that was convened by prime minister Narendra Modi, to discuss the issue of the India China face off on June 19, questions were raised about PM Modi's concluding remarks about \\\"India not losing any territory to China in recent months.\\\" This led to the opposition questioning the government as to what led to the clash between Indian and Chinese forces on June 15. A clarification was later issued by the Prime Minister's Office about 'the mischievous interpretation of PM's statement.'\\n\\n\\n\\nFact check\\n\\nBOOM ran a reverse image search on the photograph and found this PTI photo taken during Modi and Xi Jinping's 2019 meeting at Mamallapuram. The Hindu also published the photo in an article describing Modi and Xi Jinping's Mamallapuram visit.\\n\\n\\n\\n\\n\\nIn the original image, the Indian Prime Minister can be seen interacting with Xi Jinping while security guards stand behind them.\\n\\nBelow is an image comparison of the morphed image (left) and the original image (right).\\n\\n\\n\\n\\n\\nAlso Read: No This Photo Is Not Of Indian Troops Killed In Galwan Valley\\n\\nThe image of PM Modi bowing with folded hands is originally from 2014, where he was exchanging greetings with the then Mayor of Tumkur, Geeta Rudresh in the airport. BOOM found a cached version of a 2014 article in Vijay Karnataka which featured the image. The article reported that the prime minister had visited Tumkur to inaugurate the India Food Park.\\n\\nThe same image was fact-checked by BOOM Hindi earlier. Social media posts had then falsely claimed that PM Modi was pictured bowing to industrialist Gautam Adani's wife, Priti Adani.\\n\\nBOOM has fact-checked various other claims in the aftermath of the Galwan Valley clash which can be read here.\\n\\n\"\n        ],\n        \"semantic_type\": \"\",\n        \"description\": \"\"\n      }\n    }\n  ]\n}"
            }
          },
          "metadata": {},
          "execution_count": 5
        }
      ]
    },
    {
      "cell_type": "code",
      "execution_count": 6,
      "metadata": {
        "colab": {
          "base_uri": "https://localhost:8080/"
        },
        "id": "jTkemz-UDsmG",
        "outputId": "0fecd505-3363-480c-a027-64fea85e743f"
      },
      "outputs": [
        {
          "output_type": "stream",
          "name": "stdout",
          "text": [
            "<class 'pandas.core.frame.DataFrame'>\n",
            "RangeIndex: 3729 entries, 0 to 3728\n",
            "Data columns (total 2 columns):\n",
            " #   Column  Non-Null Count  Dtype \n",
            "---  ------  --------------  ----- \n",
            " 0   label   3729 non-null   object\n",
            " 1   text    3721 non-null   object\n",
            "dtypes: object(2)\n",
            "memory usage: 58.4+ KB\n"
          ]
        }
      ],
      "source": [
        "df.info()"
      ]
    },
    {
      "cell_type": "code",
      "execution_count": 7,
      "metadata": {
        "colab": {
          "base_uri": "https://localhost:8080/",
          "height": 244
        },
        "id": "v-JPqe0PEJu9",
        "outputId": "5a5ac3b6-e8c6-453d-e6ed-6def3e65ab89"
      },
      "outputs": [
        {
          "output_type": "execute_result",
          "data": {
            "text/plain": [
              "       label  \\\n",
              "count   3729   \n",
              "unique     2   \n",
              "top     FAKE   \n",
              "freq    1877   \n",
              "\n",
              "                                                                                                                                                                                                                                                                                                                                                                                                                                                                                                                                                                                                                           text  \n",
              "count                                                                                                                                                                                                                                                                                                                                                                                                                                                                                                                                                                                                                      3721  \n",
              "unique                                                                                                                                                                                                                                                                                                                                                                                                                                                                                                                                                                                                                     2229  \n",
              "top     Highest IPL score in Dubai\\n\\nMilestones to watch out for:\\n\\nPreview\\n\\nLeaving things to chance is not what #CaptainPunjab does... he creates chances! 💪🏻#SaddaPunjab #Dream11IPL… https://t.co/2hJH7DXcWb — Kings XI Punjab (@lionsdenkxip) 1600593907000\\n\\nSunrisers Hyderabad 184/1 vs Delhi Daredevils (now Delhi Capitals ) in 2014Chris Gayle need 16 more runs to get to 4500-run mark in the IPL KL Rahul needs 23 more to complete 2000 IPL runsAmit Mishra needs 3 more scalps and to complete 100 wickets for Delhi Capitals Rishabh Pant needs 6 more maximums to complete 100 IPL sixesHere's KL Rah...  \n",
              "freq                                                                                                                                                                                                                                                                                                                                                                                                                                                                                                                                                                                                                         79  "
            ],
            "text/html": [
              "\n",
              "  <div id=\"df-029eb0f0-d679-402f-85bb-f2982f6def73\" class=\"colab-df-container\">\n",
              "    <div>\n",
              "<style scoped>\n",
              "    .dataframe tbody tr th:only-of-type {\n",
              "        vertical-align: middle;\n",
              "    }\n",
              "\n",
              "    .dataframe tbody tr th {\n",
              "        vertical-align: top;\n",
              "    }\n",
              "\n",
              "    .dataframe thead th {\n",
              "        text-align: right;\n",
              "    }\n",
              "</style>\n",
              "<table border=\"1\" class=\"dataframe\">\n",
              "  <thead>\n",
              "    <tr style=\"text-align: right;\">\n",
              "      <th></th>\n",
              "      <th>label</th>\n",
              "      <th>text</th>\n",
              "    </tr>\n",
              "  </thead>\n",
              "  <tbody>\n",
              "    <tr>\n",
              "      <th>count</th>\n",
              "      <td>3729</td>\n",
              "      <td>3721</td>\n",
              "    </tr>\n",
              "    <tr>\n",
              "      <th>unique</th>\n",
              "      <td>2</td>\n",
              "      <td>2229</td>\n",
              "    </tr>\n",
              "    <tr>\n",
              "      <th>top</th>\n",
              "      <td>FAKE</td>\n",
              "      <td>Highest IPL score in Dubai\\n\\nMilestones to watch out for:\\n\\nPreview\\n\\nLeaving things to chance is not what #CaptainPunjab does... he creates chances! 💪🏻#SaddaPunjab #Dream11IPL… https://t.co/2hJH7DXcWb — Kings XI Punjab (@lionsdenkxip) 1600593907000\\n\\nSunrisers Hyderabad 184/1 vs Delhi Daredevils (now Delhi Capitals ) in 2014Chris Gayle need 16 more runs to get to 4500-run mark in the IPL KL Rahul needs 23 more to complete 2000 IPL runsAmit Mishra needs 3 more scalps and to complete 100 wickets for Delhi Capitals Rishabh Pant needs 6 more maximums to complete 100 IPL sixesHere's KL Rah...</td>\n",
              "    </tr>\n",
              "    <tr>\n",
              "      <th>freq</th>\n",
              "      <td>1877</td>\n",
              "      <td>79</td>\n",
              "    </tr>\n",
              "  </tbody>\n",
              "</table>\n",
              "</div>\n",
              "    <div class=\"colab-df-buttons\">\n",
              "\n",
              "  <div class=\"colab-df-container\">\n",
              "    <button class=\"colab-df-convert\" onclick=\"convertToInteractive('df-029eb0f0-d679-402f-85bb-f2982f6def73')\"\n",
              "            title=\"Convert this dataframe to an interactive table.\"\n",
              "            style=\"display:none;\">\n",
              "\n",
              "  <svg xmlns=\"http://www.w3.org/2000/svg\" height=\"24px\" viewBox=\"0 -960 960 960\">\n",
              "    <path d=\"M120-120v-720h720v720H120Zm60-500h600v-160H180v160Zm220 220h160v-160H400v160Zm0 220h160v-160H400v160ZM180-400h160v-160H180v160Zm440 0h160v-160H620v160ZM180-180h160v-160H180v160Zm440 0h160v-160H620v160Z\"/>\n",
              "  </svg>\n",
              "    </button>\n",
              "\n",
              "  <style>\n",
              "    .colab-df-container {\n",
              "      display:flex;\n",
              "      gap: 12px;\n",
              "    }\n",
              "\n",
              "    .colab-df-convert {\n",
              "      background-color: #E8F0FE;\n",
              "      border: none;\n",
              "      border-radius: 50%;\n",
              "      cursor: pointer;\n",
              "      display: none;\n",
              "      fill: #1967D2;\n",
              "      height: 32px;\n",
              "      padding: 0 0 0 0;\n",
              "      width: 32px;\n",
              "    }\n",
              "\n",
              "    .colab-df-convert:hover {\n",
              "      background-color: #E2EBFA;\n",
              "      box-shadow: 0px 1px 2px rgba(60, 64, 67, 0.3), 0px 1px 3px 1px rgba(60, 64, 67, 0.15);\n",
              "      fill: #174EA6;\n",
              "    }\n",
              "\n",
              "    .colab-df-buttons div {\n",
              "      margin-bottom: 4px;\n",
              "    }\n",
              "\n",
              "    [theme=dark] .colab-df-convert {\n",
              "      background-color: #3B4455;\n",
              "      fill: #D2E3FC;\n",
              "    }\n",
              "\n",
              "    [theme=dark] .colab-df-convert:hover {\n",
              "      background-color: #434B5C;\n",
              "      box-shadow: 0px 1px 3px 1px rgba(0, 0, 0, 0.15);\n",
              "      filter: drop-shadow(0px 1px 2px rgba(0, 0, 0, 0.3));\n",
              "      fill: #FFFFFF;\n",
              "    }\n",
              "  </style>\n",
              "\n",
              "    <script>\n",
              "      const buttonEl =\n",
              "        document.querySelector('#df-029eb0f0-d679-402f-85bb-f2982f6def73 button.colab-df-convert');\n",
              "      buttonEl.style.display =\n",
              "        google.colab.kernel.accessAllowed ? 'block' : 'none';\n",
              "\n",
              "      async function convertToInteractive(key) {\n",
              "        const element = document.querySelector('#df-029eb0f0-d679-402f-85bb-f2982f6def73');\n",
              "        const dataTable =\n",
              "          await google.colab.kernel.invokeFunction('convertToInteractive',\n",
              "                                                    [key], {});\n",
              "        if (!dataTable) return;\n",
              "\n",
              "        const docLinkHtml = 'Like what you see? Visit the ' +\n",
              "          '<a target=\"_blank\" href=https://colab.research.google.com/notebooks/data_table.ipynb>data table notebook</a>'\n",
              "          + ' to learn more about interactive tables.';\n",
              "        element.innerHTML = '';\n",
              "        dataTable['output_type'] = 'display_data';\n",
              "        await google.colab.output.renderOutput(dataTable, element);\n",
              "        const docLink = document.createElement('div');\n",
              "        docLink.innerHTML = docLinkHtml;\n",
              "        element.appendChild(docLink);\n",
              "      }\n",
              "    </script>\n",
              "  </div>\n",
              "\n",
              "\n",
              "<div id=\"df-5f337800-bd4b-4208-a688-fa2523d4b00f\">\n",
              "  <button class=\"colab-df-quickchart\" onclick=\"quickchart('df-5f337800-bd4b-4208-a688-fa2523d4b00f')\"\n",
              "            title=\"Suggest charts\"\n",
              "            style=\"display:none;\">\n",
              "\n",
              "<svg xmlns=\"http://www.w3.org/2000/svg\" height=\"24px\"viewBox=\"0 0 24 24\"\n",
              "     width=\"24px\">\n",
              "    <g>\n",
              "        <path d=\"M19 3H5c-1.1 0-2 .9-2 2v14c0 1.1.9 2 2 2h14c1.1 0 2-.9 2-2V5c0-1.1-.9-2-2-2zM9 17H7v-7h2v7zm4 0h-2V7h2v10zm4 0h-2v-4h2v4z\"/>\n",
              "    </g>\n",
              "</svg>\n",
              "  </button>\n",
              "\n",
              "<style>\n",
              "  .colab-df-quickchart {\n",
              "      --bg-color: #E8F0FE;\n",
              "      --fill-color: #1967D2;\n",
              "      --hover-bg-color: #E2EBFA;\n",
              "      --hover-fill-color: #174EA6;\n",
              "      --disabled-fill-color: #AAA;\n",
              "      --disabled-bg-color: #DDD;\n",
              "  }\n",
              "\n",
              "  [theme=dark] .colab-df-quickchart {\n",
              "      --bg-color: #3B4455;\n",
              "      --fill-color: #D2E3FC;\n",
              "      --hover-bg-color: #434B5C;\n",
              "      --hover-fill-color: #FFFFFF;\n",
              "      --disabled-bg-color: #3B4455;\n",
              "      --disabled-fill-color: #666;\n",
              "  }\n",
              "\n",
              "  .colab-df-quickchart {\n",
              "    background-color: var(--bg-color);\n",
              "    border: none;\n",
              "    border-radius: 50%;\n",
              "    cursor: pointer;\n",
              "    display: none;\n",
              "    fill: var(--fill-color);\n",
              "    height: 32px;\n",
              "    padding: 0;\n",
              "    width: 32px;\n",
              "  }\n",
              "\n",
              "  .colab-df-quickchart:hover {\n",
              "    background-color: var(--hover-bg-color);\n",
              "    box-shadow: 0 1px 2px rgba(60, 64, 67, 0.3), 0 1px 3px 1px rgba(60, 64, 67, 0.15);\n",
              "    fill: var(--button-hover-fill-color);\n",
              "  }\n",
              "\n",
              "  .colab-df-quickchart-complete:disabled,\n",
              "  .colab-df-quickchart-complete:disabled:hover {\n",
              "    background-color: var(--disabled-bg-color);\n",
              "    fill: var(--disabled-fill-color);\n",
              "    box-shadow: none;\n",
              "  }\n",
              "\n",
              "  .colab-df-spinner {\n",
              "    border: 2px solid var(--fill-color);\n",
              "    border-color: transparent;\n",
              "    border-bottom-color: var(--fill-color);\n",
              "    animation:\n",
              "      spin 1s steps(1) infinite;\n",
              "  }\n",
              "\n",
              "  @keyframes spin {\n",
              "    0% {\n",
              "      border-color: transparent;\n",
              "      border-bottom-color: var(--fill-color);\n",
              "      border-left-color: var(--fill-color);\n",
              "    }\n",
              "    20% {\n",
              "      border-color: transparent;\n",
              "      border-left-color: var(--fill-color);\n",
              "      border-top-color: var(--fill-color);\n",
              "    }\n",
              "    30% {\n",
              "      border-color: transparent;\n",
              "      border-left-color: var(--fill-color);\n",
              "      border-top-color: var(--fill-color);\n",
              "      border-right-color: var(--fill-color);\n",
              "    }\n",
              "    40% {\n",
              "      border-color: transparent;\n",
              "      border-right-color: var(--fill-color);\n",
              "      border-top-color: var(--fill-color);\n",
              "    }\n",
              "    60% {\n",
              "      border-color: transparent;\n",
              "      border-right-color: var(--fill-color);\n",
              "    }\n",
              "    80% {\n",
              "      border-color: transparent;\n",
              "      border-right-color: var(--fill-color);\n",
              "      border-bottom-color: var(--fill-color);\n",
              "    }\n",
              "    90% {\n",
              "      border-color: transparent;\n",
              "      border-bottom-color: var(--fill-color);\n",
              "    }\n",
              "  }\n",
              "</style>\n",
              "\n",
              "  <script>\n",
              "    async function quickchart(key) {\n",
              "      const quickchartButtonEl =\n",
              "        document.querySelector('#' + key + ' button');\n",
              "      quickchartButtonEl.disabled = true;  // To prevent multiple clicks.\n",
              "      quickchartButtonEl.classList.add('colab-df-spinner');\n",
              "      try {\n",
              "        const charts = await google.colab.kernel.invokeFunction(\n",
              "            'suggestCharts', [key], {});\n",
              "      } catch (error) {\n",
              "        console.error('Error during call to suggestCharts:', error);\n",
              "      }\n",
              "      quickchartButtonEl.classList.remove('colab-df-spinner');\n",
              "      quickchartButtonEl.classList.add('colab-df-quickchart-complete');\n",
              "    }\n",
              "    (() => {\n",
              "      let quickchartButtonEl =\n",
              "        document.querySelector('#df-5f337800-bd4b-4208-a688-fa2523d4b00f button');\n",
              "      quickchartButtonEl.style.display =\n",
              "        google.colab.kernel.accessAllowed ? 'block' : 'none';\n",
              "    })();\n",
              "  </script>\n",
              "</div>\n",
              "\n",
              "    </div>\n",
              "  </div>\n"
            ],
            "application/vnd.google.colaboratory.intrinsic+json": {
              "type": "dataframe",
              "summary": "{\n  \"name\": \"df\",\n  \"rows\": 4,\n  \"fields\": [\n    {\n      \"column\": \"label\",\n      \"properties\": {\n        \"dtype\": \"string\",\n        \"num_unique_values\": 4,\n        \"samples\": [\n          2,\n          \"1877\",\n          \"3729\"\n        ],\n        \"semantic_type\": \"\",\n        \"description\": \"\"\n      }\n    },\n    {\n      \"column\": \"text\",\n      \"properties\": {\n        \"dtype\": \"string\",\n        \"num_unique_values\": 4,\n        \"samples\": [\n          2229,\n          \"79\",\n          \"3721\"\n        ],\n        \"semantic_type\": \"\",\n        \"description\": \"\"\n      }\n    }\n  ]\n}"
            }
          },
          "metadata": {},
          "execution_count": 7
        }
      ],
      "source": [
        "df.describe()"
      ]
    },
    {
      "cell_type": "code",
      "execution_count": 8,
      "metadata": {
        "colab": {
          "base_uri": "https://localhost:8080/",
          "height": 17
        },
        "id": "4sjXb3b8EMO3",
        "outputId": "6d502bd8-dbd5-40aa-e1f3-9474b2b70f27"
      },
      "outputs": [
        {
          "output_type": "display_data",
          "data": {
            "text/plain": [
              "<IPython.core.display.HTML object>"
            ],
            "text/html": [
              "\n",
              "<style>\n",
              "    /* Turns off some styling */\n",
              "    progress {\n",
              "        /* gets rid of default border in Firefox and Opera. */\n",
              "        border: none;\n",
              "        /* Needs to be in here for Safari polyfill so background images work as expected. */\n",
              "        background-size: auto;\n",
              "    }\n",
              "    progress:not([value]), progress:not([value])::-webkit-progress-bar {\n",
              "        background: repeating-linear-gradient(45deg, #7e7e7e, #7e7e7e 10px, #5c5c5c 10px, #5c5c5c 20px);\n",
              "    }\n",
              "    .progress-bar-interrupted, .progress-bar-interrupted::-webkit-progress-bar {\n",
              "        background: #F44336;\n",
              "    }\n",
              "</style>\n"
            ]
          },
          "metadata": {}
        },
        {
          "output_type": "display_data",
          "data": {
            "text/plain": [
              "<IPython.core.display.HTML object>"
            ],
            "text/html": []
          },
          "metadata": {}
        }
      ],
      "source": [
        "dls = TextDataLoaders.from_df(df, path=path, valid_pct=0.2, text_col=1, label_col=0, tok_text_col='text', seq_len=72, bs=64)"
      ]
    },
    {
      "cell_type": "code",
      "execution_count": 9,
      "metadata": {
        "colab": {
          "base_uri": "https://localhost:8080/",
          "height": 438
        },
        "id": "L86dqFp5ERMn",
        "outputId": "f1f4fbff-4457-4f79-dd27-f723a5483155"
      },
      "outputs": [
        {
          "output_type": "display_data",
          "data": {
            "text/plain": [
              "<IPython.core.display.HTML object>"
            ],
            "text/html": [
              "<table border=\"1\" class=\"dataframe\">\n",
              "  <thead>\n",
              "    <tr style=\"text-align: right;\">\n",
              "      <th></th>\n",
              "      <th>text</th>\n",
              "      <th>category</th>\n",
              "    </tr>\n",
              "  </thead>\n",
              "  <tbody>\n",
              "    <tr>\n",
              "      <th>0</th>\n",
              "      <td>xxbos xxup we xxup support xxup narendra xxup modi ' , a public xxmaj facebook group created over seven years ago has morphed into a fake news farm with over 2.9 million members and a few moderators who in turn feed their own disinformation networks . \\n\\n xxmaj at the time of writing this story , the group had about xxunk lakh members ( xxunk ) and counting . \\n\\n xxmaj furthermore , nearly 600 xxmaj facebook pages are also ' members ' of the group , amplifying the group 's posts that are heavily xxunk towards the right - wing and are increasingly fake . \\n\\n xxunk pages are also members of the group \\n\\n xxmaj in the week beginning xxmaj april 8 , 2019 xxup boom debunked several pieces of misinformation ranging from a fake quote , a photoshopped tweet , an unrelated image and an unrelated video</td>\n",
              "      <td>FAKE</td>\n",
              "    </tr>\n",
              "    <tr>\n",
              "      <th>1</th>\n",
              "      <td>xxbos xxmaj no significant mutation of xxmaj coronavirus in xxmaj india , says xxmaj harsh xxmaj vardhan xxmaj no significant or drastic mutation in strains of sars - cov-2 has been found in xxmaj india till now , xxmaj union minister xxmaj harsh xxmaj vardhan said on xxmaj sunday . xxmaj he also said the xxup icmr has been conducting large - scale sequencing of nationally representative strains collected over a few months and detailed results on mutations of the virus will be available in early xxmaj october . \\n\\n xxmaj india 's xxmaj covid-19 case tally crossed 54 - lakh mark with a spike of 92,605 new cases and 1,133 deaths in the last 24 hours , according to the xxmaj union ministry of health . xxmaj the total case tally stands at 54,00,620 including 10,10,824 active cases , 43,03,044 cured / discharged / migrated and 86,752 deaths ,</td>\n",
              "      <td>REAL</td>\n",
              "    </tr>\n",
              "    <tr>\n",
              "      <th>2</th>\n",
              "      <td>xxbos xxmaj no significant mutation of xxmaj coronavirus in xxmaj india , says xxmaj harsh xxmaj vardhan xxmaj no significant or drastic mutation in strains of sars - cov-2 has been found in xxmaj india till now , xxmaj union minister xxmaj harsh xxmaj vardhan said on xxmaj sunday . xxmaj he also said the xxup icmr has been conducting large - scale sequencing of nationally representative strains collected over a few months and detailed results on mutations of the virus will be available in early xxmaj october . \\n\\n xxmaj india 's xxmaj covid-19 case tally crossed 54 - lakh mark with a spike of 92,605 new cases and 1,133 deaths in the last 24 hours , according to the xxmaj union ministry of health . xxmaj the total case tally stands at 54,00,620 including 10,10,824 active cases , 43,03,044 cured / discharged / migrated and 86,752 deaths ,</td>\n",
              "      <td>REAL</td>\n",
              "    </tr>\n",
              "  </tbody>\n",
              "</table>"
            ]
          },
          "metadata": {}
        }
      ],
      "source": [
        "dls.show_batch(max_n=3)"
      ]
    },
    {
      "cell_type": "code",
      "execution_count": 10,
      "metadata": {
        "id": "q_sQUVqTEZXX"
      },
      "outputs": [],
      "source": [
        "learn = text_classifier_learner(dls, AWD_LSTM, metrics=accuracy)"
      ]
    },
    {
      "cell_type": "code",
      "execution_count": 11,
      "metadata": {
        "colab": {
          "base_uri": "https://localhost:8080/",
          "height": 284
        },
        "id": "tTw5tJnuEhdi",
        "outputId": "6e32daba-8137-4dc3-ed39-cf2a6ecd8e08"
      },
      "outputs": [
        {
          "data": {
            "text/html": [
              "\n",
              "<style>\n",
              "    /* Turns off some styling */\n",
              "    progress {\n",
              "        /* gets rid of default border in Firefox and Opera. */\n",
              "        border: none;\n",
              "        /* Needs to be in here for Safari polyfill so background images work as expected. */\n",
              "        background-size: auto;\n",
              "    }\n",
              "    progress:not([value]), progress:not([value])::-webkit-progress-bar {\n",
              "        background: repeating-linear-gradient(45deg, #7e7e7e, #7e7e7e 10px, #5c5c5c 10px, #5c5c5c 20px);\n",
              "    }\n",
              "    .progress-bar-interrupted, .progress-bar-interrupted::-webkit-progress-bar {\n",
              "        background: #F44336;\n",
              "    }\n",
              "</style>\n"
            ],
            "text/plain": [
              "<IPython.core.display.HTML object>"
            ]
          },
          "metadata": {},
          "output_type": "display_data"
        },
        {
          "data": {
            "text/html": [
              "\n",
              "    <div>\n",
              "      <progress value='2' class='' max='3' style='width:300px; height:20px; vertical-align: middle;'></progress>\n",
              "      66.67% [2/3 1:05:17&lt;32:38]\n",
              "    </div>\n",
              "    \n",
              "<table border=\"1\" class=\"dataframe\">\n",
              "  <thead>\n",
              "    <tr style=\"text-align: left;\">\n",
              "      <th>epoch</th>\n",
              "      <th>train_loss</th>\n",
              "      <th>valid_loss</th>\n",
              "      <th>accuracy</th>\n",
              "      <th>time</th>\n",
              "    </tr>\n",
              "  </thead>\n",
              "  <tbody>\n",
              "    <tr>\n",
              "      <td>0</td>\n",
              "      <td>0.435272</td>\n",
              "      <td>0.134838</td>\n",
              "      <td>0.967785</td>\n",
              "      <td>32:34</td>\n",
              "    </tr>\n",
              "    <tr>\n",
              "      <td>1</td>\n",
              "      <td>0.367610</td>\n",
              "      <td>0.061736</td>\n",
              "      <td>0.986577</td>\n",
              "      <td>32:42</td>\n",
              "    </tr>\n",
              "  </tbody>\n",
              "</table><p>\n",
              "\n",
              "    <div>\n",
              "      <progress value='39' class='' max='46' style='width:300px; height:20px; vertical-align: middle;'></progress>\n",
              "      84.78% [39/46 22:40&lt;04:04 0.3006]\n",
              "    </div>\n",
              "    "
            ],
            "text/plain": [
              "<IPython.core.display.HTML object>"
            ]
          },
          "metadata": {},
          "output_type": "display_data"
        },
        {
          "output_type": "display_data",
          "data": {
            "text/plain": [
              "<IPython.core.display.HTML object>"
            ],
            "text/html": [
              "<table border=\"1\" class=\"dataframe\">\n",
              "  <thead>\n",
              "    <tr style=\"text-align: left;\">\n",
              "      <th>epoch</th>\n",
              "      <th>train_loss</th>\n",
              "      <th>valid_loss</th>\n",
              "      <th>accuracy</th>\n",
              "      <th>time</th>\n",
              "    </tr>\n",
              "  </thead>\n",
              "  <tbody>\n",
              "    <tr>\n",
              "      <td>0</td>\n",
              "      <td>0.435272</td>\n",
              "      <td>0.134838</td>\n",
              "      <td>0.967785</td>\n",
              "      <td>32:34</td>\n",
              "    </tr>\n",
              "    <tr>\n",
              "      <td>1</td>\n",
              "      <td>0.367610</td>\n",
              "      <td>0.061736</td>\n",
              "      <td>0.986577</td>\n",
              "      <td>32:42</td>\n",
              "    </tr>\n",
              "    <tr>\n",
              "      <td>2</td>\n",
              "      <td>0.298432</td>\n",
              "      <td>0.051913</td>\n",
              "      <td>0.991946</td>\n",
              "      <td>32:47</td>\n",
              "    </tr>\n",
              "  </tbody>\n",
              "</table>"
            ]
          },
          "metadata": {}
        }
      ],
      "source": [
        "learn.fit_one_cycle(3, 1e-2)"
      ]
    },
    {
      "cell_type": "code",
      "execution_count": 12,
      "metadata": {
        "id": "Ze9uAHezEjp2",
        "colab": {
          "base_uri": "https://localhost:8080/",
          "height": 1000
        },
        "outputId": "4e84618a-7904-4271-a9e5-c7cf02d773c3"
      },
      "outputs": [
        {
          "output_type": "display_data",
          "data": {
            "text/plain": [
              "<IPython.core.display.HTML object>"
            ],
            "text/html": [
              "\n",
              "<style>\n",
              "    /* Turns off some styling */\n",
              "    progress {\n",
              "        /* gets rid of default border in Firefox and Opera. */\n",
              "        border: none;\n",
              "        /* Needs to be in here for Safari polyfill so background images work as expected. */\n",
              "        background-size: auto;\n",
              "    }\n",
              "    progress:not([value]), progress:not([value])::-webkit-progress-bar {\n",
              "        background: repeating-linear-gradient(45deg, #7e7e7e, #7e7e7e 10px, #5c5c5c 10px, #5c5c5c 20px);\n",
              "    }\n",
              "    .progress-bar-interrupted, .progress-bar-interrupted::-webkit-progress-bar {\n",
              "        background: #F44336;\n",
              "    }\n",
              "</style>\n"
            ]
          },
          "metadata": {}
        },
        {
          "output_type": "display_data",
          "data": {
            "text/plain": [
              "<IPython.core.display.HTML object>"
            ],
            "text/html": []
          },
          "metadata": {}
        },
        {
          "output_type": "display_data",
          "data": {
            "text/plain": [
              "<IPython.core.display.HTML object>"
            ],
            "text/html": [
              "<table border=\"1\" class=\"dataframe\">\n",
              "  <thead>\n",
              "    <tr style=\"text-align: right;\">\n",
              "      <th></th>\n",
              "      <th>text</th>\n",
              "      <th>category</th>\n",
              "      <th>category_</th>\n",
              "    </tr>\n",
              "  </thead>\n",
              "  <tbody>\n",
              "    <tr>\n",
              "      <th>0</th>\n",
              "      <td>xxbos xxmaj no significant mutation of xxmaj coronavirus in xxmaj india , says xxmaj harsh xxmaj vardhan xxmaj no significant or drastic mutation in strains of sars - cov-2 has been found in xxmaj india till now , xxmaj union minister xxmaj harsh xxmaj vardhan said on xxmaj sunday . xxmaj he also said the xxup icmr has been conducting large - scale sequencing of nationally representative strains collected over a few months and detailed results on mutations of the virus will be available in early xxmaj october . \\n\\n xxmaj india 's xxmaj covid-19 case tally crossed 54 - lakh mark with a spike of 92,605 new cases and 1,133 deaths in the last 24 hours , according to the xxmaj union ministry of health . xxmaj the total case tally stands at 54,00,620 including 10,10,824 active cases , 43,03,044 cured / discharged / migrated and 86,752 deaths ,</td>\n",
              "      <td>REAL</td>\n",
              "      <td>REAL</td>\n",
              "    </tr>\n",
              "    <tr>\n",
              "      <th>1</th>\n",
              "      <td>xxbos xxmaj no significant mutation of xxmaj coronavirus in xxmaj india , says xxmaj harsh xxmaj vardhan xxmaj no significant or drastic mutation in strains of sars - cov-2 has been found in xxmaj india till now , xxmaj union minister xxmaj harsh xxmaj vardhan said on xxmaj sunday . xxmaj he also said the xxup icmr has been conducting large - scale sequencing of nationally representative strains collected over a few months and detailed results on mutations of the virus will be available in early xxmaj october . \\n\\n xxmaj india 's xxmaj covid-19 case tally crossed 54 - lakh mark with a spike of 92,605 new cases and 1,133 deaths in the last 24 hours , according to the xxmaj union ministry of health . xxmaj the total case tally stands at 54,00,620 including 10,10,824 active cases , 43,03,044 cured / discharged / migrated and 86,752 deaths ,</td>\n",
              "      <td>REAL</td>\n",
              "      <td>REAL</td>\n",
              "    </tr>\n",
              "    <tr>\n",
              "      <th>2</th>\n",
              "      <td>xxbos xxmaj no significant mutation of xxmaj coronavirus in xxmaj india , says xxmaj harsh xxmaj vardhan xxmaj no significant or drastic mutation in strains of sars - cov-2 has been found in xxmaj india till now , xxmaj union minister xxmaj harsh xxmaj vardhan said on xxmaj sunday . xxmaj he also said the xxup icmr has been conducting large - scale sequencing of nationally representative strains collected over a few months and detailed results on mutations of the virus will be available in early xxmaj october . \\n\\n xxmaj india 's xxmaj covid-19 case tally crossed 54 - lakh mark with a spike of 92,605 new cases and 1,133 deaths in the last 24 hours , according to the xxmaj union ministry of health . xxmaj the total case tally stands at 54,00,620 including 10,10,824 active cases , 43,03,044 cured / discharged / migrated and 86,752 deaths ,</td>\n",
              "      <td>REAL</td>\n",
              "      <td>REAL</td>\n",
              "    </tr>\n",
              "    <tr>\n",
              "      <th>3</th>\n",
              "      <td>xxbos xxmaj no significant mutation of xxmaj coronavirus in xxmaj india , says xxmaj harsh xxmaj vardhan xxmaj no significant or drastic mutation in strains of sars - cov-2 has been found in xxmaj india till now , xxmaj union minister xxmaj harsh xxmaj vardhan said on xxmaj sunday . xxmaj he also said the xxup icmr has been conducting large - scale sequencing of nationally representative strains collected over a few months and detailed results on mutations of the virus will be available in early xxmaj october . \\n\\n xxmaj india 's xxmaj covid-19 case tally crossed 54 - lakh mark with a spike of 92,605 new cases and 1,133 deaths in the last 24 hours , according to the xxmaj union ministry of health . xxmaj the total case tally stands at 54,00,620 including 10,10,824 active cases , 43,03,044 cured / discharged / migrated and 86,752 deaths ,</td>\n",
              "      <td>REAL</td>\n",
              "      <td>REAL</td>\n",
              "    </tr>\n",
              "    <tr>\n",
              "      <th>4</th>\n",
              "      <td>xxbos xxmaj no significant mutation of xxmaj coronavirus in xxmaj india , says xxmaj harsh xxmaj vardhan xxmaj no significant or drastic mutation in strains of sars - cov-2 has been found in xxmaj india till now , xxmaj union minister xxmaj harsh xxmaj vardhan said on xxmaj sunday . xxmaj he also said the xxup icmr has been conducting large - scale sequencing of nationally representative strains collected over a few months and detailed results on mutations of the virus will be available in early xxmaj october . \\n\\n xxmaj india 's xxmaj covid-19 case tally crossed 54 - lakh mark with a spike of 92,605 new cases and 1,133 deaths in the last 24 hours , according to the xxmaj union ministry of health . xxmaj the total case tally stands at 54,00,620 including 10,10,824 active cases , 43,03,044 cured / discharged / migrated and 86,752 deaths ,</td>\n",
              "      <td>REAL</td>\n",
              "      <td>REAL</td>\n",
              "    </tr>\n",
              "    <tr>\n",
              "      <th>5</th>\n",
              "      <td>xxbos xxmaj social media is abuzz claiming two books – xxmaj the xxmaj eyes of xxmaj darkness ( 1981 ) by xxmaj dean xxmaj koontz and xxmaj end xxmaj of xxmaj days ( 2008 ) by xxmaj sylvia xxmaj browne – predicted the xxmaj coronavirus outbreak . \\n\\n xxmaj users are sharing images from the books , one of them written in 1981 , on xxmaj facebook , whatsapp xxmaj and xxmaj twitter highlighting excerpts from the books that speak about a similar outbreak . \\n\\n xxmaj while the internet has lately been flooded with varied misinformation and misleading claims around the novel xxmaj coronavirus ( covid-19 ) outbreak , the connections made with pop culture products like films and books , have been amongst the most xxunk . xxmaj after the film xxmaj xxunk being shared online as a prophecy of the viral disease , the thriller novel (</td>\n",
              "      <td>FAKE</td>\n",
              "      <td>FAKE</td>\n",
              "    </tr>\n",
              "    <tr>\n",
              "      <th>6</th>\n",
              "      <td>xxbos xxmaj an incident where a large gathering comprising of labourers flouted a nationwide lockdown to protest outside a railway station in xxmaj mumbai , is being given communal overtones on social media . xxmaj several news channels including xxmaj republic xxup tv , xxmaj news xxmaj nation and editor - in - chief of xxmaj india xxup tv , xxmaj rajat xxmaj sharma highlighted that the crowd gathered near a mosque . \\n\\n xxup boom spoke to xxmaj mumbai police and local reporters present at the scene who said a mix of rumours drew migrant labourers to gather at the spot . xxmaj the crowd then grew larger when locals from nearby xxmaj muslim areas near the station joined in . \\n\\n\\n\\n xxmaj on the evening of xxmaj april 14 , 2020 videos of a large crowd outside xxmaj mumbai 's xxmaj bandra ( west ) railway station started</td>\n",
              "      <td>FAKE</td>\n",
              "      <td>FAKE</td>\n",
              "    </tr>\n",
              "    <tr>\n",
              "      <th>7</th>\n",
              "      <td>xxbos xxmaj many things will have to work out to end the coronavirus pandemic . xxmaj drug companies will have to develop a safe and effective vaccine . xxmaj billions of people will have to consent to vaccination.but there are more prosaic challenges , too . xxmaj among them : xxmaj companies may have to transport tiny glass vials thousands of miles while keeping them as cold as the xxmaj south xxmaj pole in the depths of winter.a number of the leading xxmaj covid-19 vaccines under development will need to be kept at temperatures as low as minus 80 degrees xxmaj celsius ( minus 112 degrees xxmaj fahrenheit ) from the moment they are bottled to the time they are ready to be injected into patients ’ arms.that will not be easy . xxmaj vaccines may be manufactured on one continent and shipped to another . xxmaj they will go</td>\n",
              "      <td>REAL</td>\n",
              "      <td>REAL</td>\n",
              "    </tr>\n",
              "    <tr>\n",
              "      <th>8</th>\n",
              "      <td>xxbos xxmaj many things will have to work out to end the coronavirus pandemic . xxmaj drug companies will have to develop a safe and effective vaccine . xxmaj billions of people will have to consent to vaccination.but there are more prosaic challenges , too . xxmaj among them : xxmaj companies may have to transport tiny glass vials thousands of miles while keeping them as cold as the xxmaj south xxmaj pole in the depths of winter.a number of the leading xxmaj covid-19 vaccines under development will need to be kept at temperatures as low as minus 80 degrees xxmaj celsius ( minus 112 degrees xxmaj fahrenheit ) from the moment they are bottled to the time they are ready to be injected into patients ’ arms.that will not be easy . xxmaj vaccines may be manufactured on one continent and shipped to another . xxmaj they will go</td>\n",
              "      <td>REAL</td>\n",
              "      <td>REAL</td>\n",
              "    </tr>\n",
              "  </tbody>\n",
              "</table>"
            ]
          },
          "metadata": {}
        }
      ],
      "source": [
        "learn.show_results()"
      ]
    },
    {
      "cell_type": "code",
      "execution_count": 13,
      "metadata": {
        "id": "j8M-VoBGlsTg",
        "colab": {
          "base_uri": "https://localhost:8080/",
          "height": 506
        },
        "outputId": "026c4200-57a1-45fa-dc01-a74b438e503e"
      },
      "outputs": [
        {
          "output_type": "display_data",
          "data": {
            "text/plain": [
              "<IPython.core.display.HTML object>"
            ],
            "text/html": [
              "\n",
              "<style>\n",
              "    /* Turns off some styling */\n",
              "    progress {\n",
              "        /* gets rid of default border in Firefox and Opera. */\n",
              "        border: none;\n",
              "        /* Needs to be in here for Safari polyfill so background images work as expected. */\n",
              "        background-size: auto;\n",
              "    }\n",
              "    progress:not([value]), progress:not([value])::-webkit-progress-bar {\n",
              "        background: repeating-linear-gradient(45deg, #7e7e7e, #7e7e7e 10px, #5c5c5c 10px, #5c5c5c 20px);\n",
              "    }\n",
              "    .progress-bar-interrupted, .progress-bar-interrupted::-webkit-progress-bar {\n",
              "        background: #F44336;\n",
              "    }\n",
              "</style>\n"
            ]
          },
          "metadata": {}
        },
        {
          "output_type": "display_data",
          "data": {
            "text/plain": [
              "<IPython.core.display.HTML object>"
            ],
            "text/html": []
          },
          "metadata": {}
        },
        {
          "output_type": "display_data",
          "data": {
            "text/plain": [
              "<IPython.core.display.HTML object>"
            ],
            "text/html": [
              "\n",
              "<style>\n",
              "    /* Turns off some styling */\n",
              "    progress {\n",
              "        /* gets rid of default border in Firefox and Opera. */\n",
              "        border: none;\n",
              "        /* Needs to be in here for Safari polyfill so background images work as expected. */\n",
              "        background-size: auto;\n",
              "    }\n",
              "    progress:not([value]), progress:not([value])::-webkit-progress-bar {\n",
              "        background: repeating-linear-gradient(45deg, #7e7e7e, #7e7e7e 10px, #5c5c5c 10px, #5c5c5c 20px);\n",
              "    }\n",
              "    .progress-bar-interrupted, .progress-bar-interrupted::-webkit-progress-bar {\n",
              "        background: #F44336;\n",
              "    }\n",
              "</style>\n"
            ]
          },
          "metadata": {}
        },
        {
          "output_type": "display_data",
          "data": {
            "text/plain": [
              "<IPython.core.display.HTML object>"
            ],
            "text/html": []
          },
          "metadata": {}
        },
        {
          "output_type": "display_data",
          "data": {
            "text/plain": [
              "<Figure size 640x480 with 1 Axes>"
            ],
            "image/png": "[encoded data removed]"
          },
          "metadata": {}
        }
      ],
      "source": [
        "interp = ClassificationInterpretation.from_learner(learn)\n",
        "interp.plot_confusion_matrix()"
      ]
    }
  ],
  "metadata": {
    "colab": {
      "provenance": [],
      "authorship_tag": "ABX9TyOcItmPWZD/Hp1Nexk03N93",
      "include_colab_link": true
    },
    "kernelspec": {
      "display_name": "Python 3",
      "name": "python3"
    },
    "language_info": {
      "name": "python"
    }
  },
  "nbformat": 4,
  "nbformat_minor": 0
}